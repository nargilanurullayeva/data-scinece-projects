{
 "cells": [
  {
   "cell_type": "code",
   "execution_count": 1,
   "id": "2d8379c2",
   "metadata": {},
   "outputs": [],
   "source": [
    "import pandas as pd\n",
    "import matplotlib.pyplot as plt\n",
    "from statistics import stdev\n",
    "import math\n",
    "import statistics"
   ]
  },
  {
   "cell_type": "code",
   "execution_count": 2,
   "id": "8b023a50",
   "metadata": {},
   "outputs": [
    {
     "data": {
      "text/html": [
       "<div>\n",
       "<style scoped>\n",
       "    .dataframe tbody tr th:only-of-type {\n",
       "        vertical-align: middle;\n",
       "    }\n",
       "\n",
       "    .dataframe tbody tr th {\n",
       "        vertical-align: top;\n",
       "    }\n",
       "\n",
       "    .dataframe thead th {\n",
       "        text-align: right;\n",
       "    }\n",
       "</style>\n",
       "<table border=\"1\" class=\"dataframe\">\n",
       "  <thead>\n",
       "    <tr style=\"text-align: right;\">\n",
       "      <th></th>\n",
       "      <th>species</th>\n",
       "      <th>island</th>\n",
       "      <th>culmen_length_mm</th>\n",
       "      <th>culmen_depth_mm</th>\n",
       "      <th>flipper_length_mm</th>\n",
       "      <th>body_mass_g</th>\n",
       "      <th>sex</th>\n",
       "    </tr>\n",
       "  </thead>\n",
       "  <tbody>\n",
       "    <tr>\n",
       "      <th>0</th>\n",
       "      <td>Adelie</td>\n",
       "      <td>Torgersen</td>\n",
       "      <td>39.1</td>\n",
       "      <td>18.7</td>\n",
       "      <td>181.0</td>\n",
       "      <td>3750.0</td>\n",
       "      <td>MALE</td>\n",
       "    </tr>\n",
       "    <tr>\n",
       "      <th>1</th>\n",
       "      <td>Adelie</td>\n",
       "      <td>Torgersen</td>\n",
       "      <td>39.5</td>\n",
       "      <td>17.4</td>\n",
       "      <td>186.0</td>\n",
       "      <td>3800.0</td>\n",
       "      <td>FEMALE</td>\n",
       "    </tr>\n",
       "    <tr>\n",
       "      <th>2</th>\n",
       "      <td>Adelie</td>\n",
       "      <td>Torgersen</td>\n",
       "      <td>40.3</td>\n",
       "      <td>18.0</td>\n",
       "      <td>195.0</td>\n",
       "      <td>3250.0</td>\n",
       "      <td>FEMALE</td>\n",
       "    </tr>\n",
       "    <tr>\n",
       "      <th>3</th>\n",
       "      <td>Adelie</td>\n",
       "      <td>Torgersen</td>\n",
       "      <td>NaN</td>\n",
       "      <td>NaN</td>\n",
       "      <td>NaN</td>\n",
       "      <td>NaN</td>\n",
       "      <td>NaN</td>\n",
       "    </tr>\n",
       "    <tr>\n",
       "      <th>4</th>\n",
       "      <td>Adelie</td>\n",
       "      <td>Torgersen</td>\n",
       "      <td>36.7</td>\n",
       "      <td>19.3</td>\n",
       "      <td>193.0</td>\n",
       "      <td>3450.0</td>\n",
       "      <td>FEMALE</td>\n",
       "    </tr>\n",
       "  </tbody>\n",
       "</table>\n",
       "</div>"
      ],
      "text/plain": [
       "  species     island  culmen_length_mm  culmen_depth_mm  flipper_length_mm  \\\n",
       "0  Adelie  Torgersen              39.1             18.7              181.0   \n",
       "1  Adelie  Torgersen              39.5             17.4              186.0   \n",
       "2  Adelie  Torgersen              40.3             18.0              195.0   \n",
       "3  Adelie  Torgersen               NaN              NaN                NaN   \n",
       "4  Adelie  Torgersen              36.7             19.3              193.0   \n",
       "\n",
       "   body_mass_g     sex  \n",
       "0       3750.0    MALE  \n",
       "1       3800.0  FEMALE  \n",
       "2       3250.0  FEMALE  \n",
       "3          NaN     NaN  \n",
       "4       3450.0  FEMALE  "
      ]
     },
     "execution_count": 2,
     "metadata": {},
     "output_type": "execute_result"
    }
   ],
   "source": [
    "df=pd.read_csv('penguins_size.csv')\n",
    "df.head()"
   ]
  },
  {
   "cell_type": "markdown",
   "id": "811a4f9a",
   "metadata": {},
   "source": [
    "# Veriyi Tanımak"
   ]
  },
  {
   "cell_type": "code",
   "execution_count": 3,
   "id": "aaf55a39",
   "metadata": {},
   "outputs": [
    {
     "data": {
      "text/plain": [
       "species               object\n",
       "island                object\n",
       "culmen_length_mm     float64\n",
       "culmen_depth_mm      float64\n",
       "flipper_length_mm    float64\n",
       "body_mass_g          float64\n",
       "sex                   object\n",
       "dtype: object"
      ]
     },
     "execution_count": 3,
     "metadata": {},
     "output_type": "execute_result"
    }
   ],
   "source": [
    "df.dtypes"
   ]
  },
  {
   "cell_type": "code",
   "execution_count": 4,
   "id": "05acbc34",
   "metadata": {},
   "outputs": [
    {
     "data": {
      "text/plain": [
       "(344, 7)"
      ]
     },
     "execution_count": 4,
     "metadata": {},
     "output_type": "execute_result"
    }
   ],
   "source": [
    "df.shape"
   ]
  },
  {
   "cell_type": "code",
   "execution_count": 5,
   "id": "c16842c7",
   "metadata": {},
   "outputs": [
    {
     "data": {
      "text/html": [
       "<div>\n",
       "<style scoped>\n",
       "    .dataframe tbody tr th:only-of-type {\n",
       "        vertical-align: middle;\n",
       "    }\n",
       "\n",
       "    .dataframe tbody tr th {\n",
       "        vertical-align: top;\n",
       "    }\n",
       "\n",
       "    .dataframe thead th {\n",
       "        text-align: right;\n",
       "    }\n",
       "</style>\n",
       "<table border=\"1\" class=\"dataframe\">\n",
       "  <thead>\n",
       "    <tr style=\"text-align: right;\">\n",
       "      <th></th>\n",
       "      <th>count</th>\n",
       "      <th>mean</th>\n",
       "      <th>std</th>\n",
       "      <th>min</th>\n",
       "      <th>25%</th>\n",
       "      <th>50%</th>\n",
       "      <th>75%</th>\n",
       "      <th>max</th>\n",
       "    </tr>\n",
       "  </thead>\n",
       "  <tbody>\n",
       "    <tr>\n",
       "      <th>culmen_length_mm</th>\n",
       "      <td>342.0</td>\n",
       "      <td>43.921930</td>\n",
       "      <td>5.459584</td>\n",
       "      <td>32.1</td>\n",
       "      <td>39.225</td>\n",
       "      <td>44.45</td>\n",
       "      <td>48.5</td>\n",
       "      <td>59.6</td>\n",
       "    </tr>\n",
       "    <tr>\n",
       "      <th>culmen_depth_mm</th>\n",
       "      <td>342.0</td>\n",
       "      <td>17.151170</td>\n",
       "      <td>1.974793</td>\n",
       "      <td>13.1</td>\n",
       "      <td>15.600</td>\n",
       "      <td>17.30</td>\n",
       "      <td>18.7</td>\n",
       "      <td>21.5</td>\n",
       "    </tr>\n",
       "    <tr>\n",
       "      <th>flipper_length_mm</th>\n",
       "      <td>342.0</td>\n",
       "      <td>200.915205</td>\n",
       "      <td>14.061714</td>\n",
       "      <td>172.0</td>\n",
       "      <td>190.000</td>\n",
       "      <td>197.00</td>\n",
       "      <td>213.0</td>\n",
       "      <td>231.0</td>\n",
       "    </tr>\n",
       "    <tr>\n",
       "      <th>body_mass_g</th>\n",
       "      <td>342.0</td>\n",
       "      <td>4201.754386</td>\n",
       "      <td>801.954536</td>\n",
       "      <td>2700.0</td>\n",
       "      <td>3550.000</td>\n",
       "      <td>4050.00</td>\n",
       "      <td>4750.0</td>\n",
       "      <td>6300.0</td>\n",
       "    </tr>\n",
       "  </tbody>\n",
       "</table>\n",
       "</div>"
      ],
      "text/plain": [
       "                   count         mean         std     min       25%      50%  \\\n",
       "culmen_length_mm   342.0    43.921930    5.459584    32.1    39.225    44.45   \n",
       "culmen_depth_mm    342.0    17.151170    1.974793    13.1    15.600    17.30   \n",
       "flipper_length_mm  342.0   200.915205   14.061714   172.0   190.000   197.00   \n",
       "body_mass_g        342.0  4201.754386  801.954536  2700.0  3550.000  4050.00   \n",
       "\n",
       "                      75%     max  \n",
       "culmen_length_mm     48.5    59.6  \n",
       "culmen_depth_mm      18.7    21.5  \n",
       "flipper_length_mm   213.0   231.0  \n",
       "body_mass_g        4750.0  6300.0  "
      ]
     },
     "execution_count": 5,
     "metadata": {},
     "output_type": "execute_result"
    }
   ],
   "source": [
    "df.describe().T"
   ]
  },
  {
   "cell_type": "markdown",
   "id": "fcc33948",
   "metadata": {},
   "source": [
    "# On Isleme"
   ]
  },
  {
   "cell_type": "code",
   "execution_count": 6,
   "id": "566512f3",
   "metadata": {},
   "outputs": [
    {
     "data": {
      "text/plain": [
       "0"
      ]
     },
     "execution_count": 6,
     "metadata": {},
     "output_type": "execute_result"
    }
   ],
   "source": [
    "# tekrar eden verileri bulma\n",
    "df.duplicated().sum()"
   ]
  },
  {
   "cell_type": "code",
   "execution_count": 7,
   "id": "748528fb",
   "metadata": {},
   "outputs": [
    {
     "name": "stdout",
     "output_type": "stream",
     "text": [
      "species               0\n",
      "island                0\n",
      "culmen_length_mm      2\n",
      "culmen_depth_mm       2\n",
      "flipper_length_mm     2\n",
      "body_mass_g           2\n",
      "sex                  10\n",
      "dtype: int64\n"
     ]
    }
   ],
   "source": [
    "print(df.isnull().sum())"
   ]
  },
  {
   "cell_type": "code",
   "execution_count": 8,
   "id": "16c38bf7",
   "metadata": {},
   "outputs": [
    {
     "name": "stdout",
     "output_type": "stream",
     "text": [
      "<class 'pandas.core.frame.DataFrame'>\n",
      "RangeIndex: 344 entries, 0 to 343\n",
      "Data columns (total 7 columns):\n",
      " #   Column             Non-Null Count  Dtype  \n",
      "---  ------             --------------  -----  \n",
      " 0   species            344 non-null    object \n",
      " 1   island             344 non-null    object \n",
      " 2   culmen_length_mm   342 non-null    float64\n",
      " 3   culmen_depth_mm    342 non-null    float64\n",
      " 4   flipper_length_mm  342 non-null    float64\n",
      " 5   body_mass_g        342 non-null    float64\n",
      " 6   sex                334 non-null    object \n",
      "dtypes: float64(4), object(3)\n",
      "memory usage: 18.9+ KB\n"
     ]
    }
   ],
   "source": [
    "df.info()"
   ]
  },
  {
   "cell_type": "code",
   "execution_count": 9,
   "id": "07f06f52",
   "metadata": {},
   "outputs": [],
   "source": [
    "from sklearn.impute import SimpleImputer\n",
    "imputer = SimpleImputer()\n",
    "df[['culmen_length_mm', 'culmen_depth_mm','flipper_length_mm','body_mass_g']] = imputer.fit_transform(df[['culmen_length_mm', 'culmen_depth_mm','flipper_length_mm','body_mass_g']])"
   ]
  },
  {
   "cell_type": "code",
   "execution_count": 10,
   "id": "d43674b7",
   "metadata": {},
   "outputs": [],
   "source": [
    "from sklearn.impute import SimpleImputer\n",
    "imputer = SimpleImputer(strategy='most_frequent')\n",
    "df[['sex']] = imputer.fit_transform(df[['sex']])"
   ]
  },
  {
   "cell_type": "code",
   "execution_count": 11,
   "id": "298d5328",
   "metadata": {},
   "outputs": [
    {
     "name": "stdout",
     "output_type": "stream",
     "text": [
      "species              0\n",
      "island               0\n",
      "culmen_length_mm     0\n",
      "culmen_depth_mm      0\n",
      "flipper_length_mm    0\n",
      "body_mass_g          0\n",
      "sex                  0\n",
      "dtype: int64\n"
     ]
    }
   ],
   "source": [
    "print(df.isnull().sum())"
   ]
  },
  {
   "cell_type": "code",
   "execution_count": 12,
   "id": "42d60eb7",
   "metadata": {},
   "outputs": [
    {
     "data": {
      "text/html": [
       "<div>\n",
       "<style scoped>\n",
       "    .dataframe tbody tr th:only-of-type {\n",
       "        vertical-align: middle;\n",
       "    }\n",
       "\n",
       "    .dataframe tbody tr th {\n",
       "        vertical-align: top;\n",
       "    }\n",
       "\n",
       "    .dataframe thead th {\n",
       "        text-align: right;\n",
       "    }\n",
       "</style>\n",
       "<table border=\"1\" class=\"dataframe\">\n",
       "  <thead>\n",
       "    <tr style=\"text-align: right;\">\n",
       "      <th></th>\n",
       "      <th>species</th>\n",
       "      <th>island</th>\n",
       "      <th>culmen_length_mm</th>\n",
       "      <th>culmen_depth_mm</th>\n",
       "      <th>flipper_length_mm</th>\n",
       "      <th>body_mass_g</th>\n",
       "      <th>sex</th>\n",
       "    </tr>\n",
       "  </thead>\n",
       "  <tbody>\n",
       "    <tr>\n",
       "      <th>0</th>\n",
       "      <td>Adelie</td>\n",
       "      <td>Torgersen</td>\n",
       "      <td>39.10000</td>\n",
       "      <td>18.70000</td>\n",
       "      <td>181.000000</td>\n",
       "      <td>3750.000000</td>\n",
       "      <td>MALE</td>\n",
       "    </tr>\n",
       "    <tr>\n",
       "      <th>1</th>\n",
       "      <td>Adelie</td>\n",
       "      <td>Torgersen</td>\n",
       "      <td>39.50000</td>\n",
       "      <td>17.40000</td>\n",
       "      <td>186.000000</td>\n",
       "      <td>3800.000000</td>\n",
       "      <td>FEMALE</td>\n",
       "    </tr>\n",
       "    <tr>\n",
       "      <th>2</th>\n",
       "      <td>Adelie</td>\n",
       "      <td>Torgersen</td>\n",
       "      <td>40.30000</td>\n",
       "      <td>18.00000</td>\n",
       "      <td>195.000000</td>\n",
       "      <td>3250.000000</td>\n",
       "      <td>FEMALE</td>\n",
       "    </tr>\n",
       "    <tr>\n",
       "      <th>3</th>\n",
       "      <td>Adelie</td>\n",
       "      <td>Torgersen</td>\n",
       "      <td>43.92193</td>\n",
       "      <td>17.15117</td>\n",
       "      <td>200.915205</td>\n",
       "      <td>4201.754386</td>\n",
       "      <td>MALE</td>\n",
       "    </tr>\n",
       "    <tr>\n",
       "      <th>4</th>\n",
       "      <td>Adelie</td>\n",
       "      <td>Torgersen</td>\n",
       "      <td>36.70000</td>\n",
       "      <td>19.30000</td>\n",
       "      <td>193.000000</td>\n",
       "      <td>3450.000000</td>\n",
       "      <td>FEMALE</td>\n",
       "    </tr>\n",
       "  </tbody>\n",
       "</table>\n",
       "</div>"
      ],
      "text/plain": [
       "  species     island  culmen_length_mm  culmen_depth_mm  flipper_length_mm  \\\n",
       "0  Adelie  Torgersen          39.10000         18.70000         181.000000   \n",
       "1  Adelie  Torgersen          39.50000         17.40000         186.000000   \n",
       "2  Adelie  Torgersen          40.30000         18.00000         195.000000   \n",
       "3  Adelie  Torgersen          43.92193         17.15117         200.915205   \n",
       "4  Adelie  Torgersen          36.70000         19.30000         193.000000   \n",
       "\n",
       "   body_mass_g     sex  \n",
       "0  3750.000000    MALE  \n",
       "1  3800.000000  FEMALE  \n",
       "2  3250.000000  FEMALE  \n",
       "3  4201.754386    MALE  \n",
       "4  3450.000000  FEMALE  "
      ]
     },
     "execution_count": 12,
     "metadata": {},
     "output_type": "execute_result"
    }
   ],
   "source": [
    "df.head()"
   ]
  },
  {
   "cell_type": "markdown",
   "id": "cb246af3",
   "metadata": {},
   "source": [
    "# Normalization "
   ]
  },
  {
   "cell_type": "code",
   "execution_count": 13,
   "id": "83191a8c",
   "metadata": {},
   "outputs": [
    {
     "data": {
      "text/html": [
       "<div>\n",
       "<style scoped>\n",
       "    .dataframe tbody tr th:only-of-type {\n",
       "        vertical-align: middle;\n",
       "    }\n",
       "\n",
       "    .dataframe tbody tr th {\n",
       "        vertical-align: top;\n",
       "    }\n",
       "\n",
       "    .dataframe thead th {\n",
       "        text-align: right;\n",
       "    }\n",
       "</style>\n",
       "<table border=\"1\" class=\"dataframe\">\n",
       "  <thead>\n",
       "    <tr style=\"text-align: right;\">\n",
       "      <th></th>\n",
       "      <th>species</th>\n",
       "      <th>island</th>\n",
       "      <th>culmen_length_mm</th>\n",
       "      <th>culmen_depth_mm</th>\n",
       "      <th>flipper_length_mm</th>\n",
       "      <th>body_mass_g</th>\n",
       "      <th>sex</th>\n",
       "    </tr>\n",
       "  </thead>\n",
       "  <tbody>\n",
       "    <tr>\n",
       "      <th>0</th>\n",
       "      <td>Adelie</td>\n",
       "      <td>Torgersen</td>\n",
       "      <td>0.656040</td>\n",
       "      <td>0.869767</td>\n",
       "      <td>0.783550</td>\n",
       "      <td>0.595238</td>\n",
       "      <td>MALE</td>\n",
       "    </tr>\n",
       "    <tr>\n",
       "      <th>1</th>\n",
       "      <td>Adelie</td>\n",
       "      <td>Torgersen</td>\n",
       "      <td>0.662752</td>\n",
       "      <td>0.809302</td>\n",
       "      <td>0.805195</td>\n",
       "      <td>0.603175</td>\n",
       "      <td>FEMALE</td>\n",
       "    </tr>\n",
       "    <tr>\n",
       "      <th>2</th>\n",
       "      <td>Adelie</td>\n",
       "      <td>Torgersen</td>\n",
       "      <td>0.676174</td>\n",
       "      <td>0.837209</td>\n",
       "      <td>0.844156</td>\n",
       "      <td>0.515873</td>\n",
       "      <td>FEMALE</td>\n",
       "    </tr>\n",
       "    <tr>\n",
       "      <th>3</th>\n",
       "      <td>Adelie</td>\n",
       "      <td>Torgersen</td>\n",
       "      <td>0.736945</td>\n",
       "      <td>0.797729</td>\n",
       "      <td>0.869763</td>\n",
       "      <td>0.666945</td>\n",
       "      <td>MALE</td>\n",
       "    </tr>\n",
       "    <tr>\n",
       "      <th>4</th>\n",
       "      <td>Adelie</td>\n",
       "      <td>Torgersen</td>\n",
       "      <td>0.615772</td>\n",
       "      <td>0.897674</td>\n",
       "      <td>0.835498</td>\n",
       "      <td>0.547619</td>\n",
       "      <td>FEMALE</td>\n",
       "    </tr>\n",
       "    <tr>\n",
       "      <th>...</th>\n",
       "      <td>...</td>\n",
       "      <td>...</td>\n",
       "      <td>...</td>\n",
       "      <td>...</td>\n",
       "      <td>...</td>\n",
       "      <td>...</td>\n",
       "      <td>...</td>\n",
       "    </tr>\n",
       "    <tr>\n",
       "      <th>339</th>\n",
       "      <td>Gentoo</td>\n",
       "      <td>Biscoe</td>\n",
       "      <td>0.736945</td>\n",
       "      <td>0.797729</td>\n",
       "      <td>0.869763</td>\n",
       "      <td>0.666945</td>\n",
       "      <td>MALE</td>\n",
       "    </tr>\n",
       "    <tr>\n",
       "      <th>340</th>\n",
       "      <td>Gentoo</td>\n",
       "      <td>Biscoe</td>\n",
       "      <td>0.785235</td>\n",
       "      <td>0.665116</td>\n",
       "      <td>0.930736</td>\n",
       "      <td>0.769841</td>\n",
       "      <td>FEMALE</td>\n",
       "    </tr>\n",
       "    <tr>\n",
       "      <th>341</th>\n",
       "      <td>Gentoo</td>\n",
       "      <td>Biscoe</td>\n",
       "      <td>0.845638</td>\n",
       "      <td>0.730233</td>\n",
       "      <td>0.961039</td>\n",
       "      <td>0.912698</td>\n",
       "      <td>MALE</td>\n",
       "    </tr>\n",
       "    <tr>\n",
       "      <th>342</th>\n",
       "      <td>Gentoo</td>\n",
       "      <td>Biscoe</td>\n",
       "      <td>0.758389</td>\n",
       "      <td>0.688372</td>\n",
       "      <td>0.917749</td>\n",
       "      <td>0.825397</td>\n",
       "      <td>FEMALE</td>\n",
       "    </tr>\n",
       "    <tr>\n",
       "      <th>343</th>\n",
       "      <td>Gentoo</td>\n",
       "      <td>Biscoe</td>\n",
       "      <td>0.837248</td>\n",
       "      <td>0.748837</td>\n",
       "      <td>0.922078</td>\n",
       "      <td>0.857143</td>\n",
       "      <td>MALE</td>\n",
       "    </tr>\n",
       "  </tbody>\n",
       "</table>\n",
       "<p>344 rows × 7 columns</p>\n",
       "</div>"
      ],
      "text/plain": [
       "    species     island  culmen_length_mm  culmen_depth_mm  flipper_length_mm  \\\n",
       "0    Adelie  Torgersen          0.656040         0.869767           0.783550   \n",
       "1    Adelie  Torgersen          0.662752         0.809302           0.805195   \n",
       "2    Adelie  Torgersen          0.676174         0.837209           0.844156   \n",
       "3    Adelie  Torgersen          0.736945         0.797729           0.869763   \n",
       "4    Adelie  Torgersen          0.615772         0.897674           0.835498   \n",
       "..      ...        ...               ...              ...                ...   \n",
       "339  Gentoo     Biscoe          0.736945         0.797729           0.869763   \n",
       "340  Gentoo     Biscoe          0.785235         0.665116           0.930736   \n",
       "341  Gentoo     Biscoe          0.845638         0.730233           0.961039   \n",
       "342  Gentoo     Biscoe          0.758389         0.688372           0.917749   \n",
       "343  Gentoo     Biscoe          0.837248         0.748837           0.922078   \n",
       "\n",
       "     body_mass_g     sex  \n",
       "0       0.595238    MALE  \n",
       "1       0.603175  FEMALE  \n",
       "2       0.515873  FEMALE  \n",
       "3       0.666945    MALE  \n",
       "4       0.547619  FEMALE  \n",
       "..           ...     ...  \n",
       "339     0.666945    MALE  \n",
       "340     0.769841  FEMALE  \n",
       "341     0.912698    MALE  \n",
       "342     0.825397  FEMALE  \n",
       "343     0.857143    MALE  \n",
       "\n",
       "[344 rows x 7 columns]"
      ]
     },
     "metadata": {},
     "output_type": "display_data"
    }
   ],
   "source": [
    "for column in df[['culmen_length_mm', 'culmen_depth_mm', 'flipper_length_mm','body_mass_g']]:\n",
    "    \n",
    "    df[column] = df[column]  / df[column].abs().max()\n",
    "    \n",
    "display(df)"
   ]
  },
  {
   "cell_type": "code",
   "execution_count": 14,
   "id": "a39d91a7",
   "metadata": {},
   "outputs": [],
   "source": [
    "# Label Encoder\n",
    "import category_encoders as ce"
   ]
  },
  {
   "cell_type": "code",
   "execution_count": 15,
   "id": "b24eab39",
   "metadata": {},
   "outputs": [
    {
     "data": {
      "text/html": [
       "<div>\n",
       "<style scoped>\n",
       "    .dataframe tbody tr th:only-of-type {\n",
       "        vertical-align: middle;\n",
       "    }\n",
       "\n",
       "    .dataframe tbody tr th {\n",
       "        vertical-align: top;\n",
       "    }\n",
       "\n",
       "    .dataframe thead th {\n",
       "        text-align: right;\n",
       "    }\n",
       "</style>\n",
       "<table border=\"1\" class=\"dataframe\">\n",
       "  <thead>\n",
       "    <tr style=\"text-align: right;\">\n",
       "      <th></th>\n",
       "      <th>species</th>\n",
       "      <th>island</th>\n",
       "      <th>culmen_length_mm</th>\n",
       "      <th>culmen_depth_mm</th>\n",
       "      <th>flipper_length_mm</th>\n",
       "      <th>body_mass_g</th>\n",
       "      <th>sex</th>\n",
       "    </tr>\n",
       "  </thead>\n",
       "  <tbody>\n",
       "    <tr>\n",
       "      <th>0</th>\n",
       "      <td>Adelie</td>\n",
       "      <td>1</td>\n",
       "      <td>0.656040</td>\n",
       "      <td>0.869767</td>\n",
       "      <td>0.783550</td>\n",
       "      <td>0.595238</td>\n",
       "      <td>1</td>\n",
       "    </tr>\n",
       "    <tr>\n",
       "      <th>1</th>\n",
       "      <td>Adelie</td>\n",
       "      <td>1</td>\n",
       "      <td>0.662752</td>\n",
       "      <td>0.809302</td>\n",
       "      <td>0.805195</td>\n",
       "      <td>0.603175</td>\n",
       "      <td>2</td>\n",
       "    </tr>\n",
       "    <tr>\n",
       "      <th>2</th>\n",
       "      <td>Adelie</td>\n",
       "      <td>1</td>\n",
       "      <td>0.676174</td>\n",
       "      <td>0.837209</td>\n",
       "      <td>0.844156</td>\n",
       "      <td>0.515873</td>\n",
       "      <td>2</td>\n",
       "    </tr>\n",
       "    <tr>\n",
       "      <th>3</th>\n",
       "      <td>Adelie</td>\n",
       "      <td>1</td>\n",
       "      <td>0.736945</td>\n",
       "      <td>0.797729</td>\n",
       "      <td>0.869763</td>\n",
       "      <td>0.666945</td>\n",
       "      <td>1</td>\n",
       "    </tr>\n",
       "    <tr>\n",
       "      <th>4</th>\n",
       "      <td>Adelie</td>\n",
       "      <td>1</td>\n",
       "      <td>0.615772</td>\n",
       "      <td>0.897674</td>\n",
       "      <td>0.835498</td>\n",
       "      <td>0.547619</td>\n",
       "      <td>2</td>\n",
       "    </tr>\n",
       "  </tbody>\n",
       "</table>\n",
       "</div>"
      ],
      "text/plain": [
       "  species  island  culmen_length_mm  culmen_depth_mm  flipper_length_mm  \\\n",
       "0  Adelie       1          0.656040         0.869767           0.783550   \n",
       "1  Adelie       1          0.662752         0.809302           0.805195   \n",
       "2  Adelie       1          0.676174         0.837209           0.844156   \n",
       "3  Adelie       1          0.736945         0.797729           0.869763   \n",
       "4  Adelie       1          0.615772         0.897674           0.835498   \n",
       "\n",
       "   body_mass_g  sex  \n",
       "0     0.595238    1  \n",
       "1     0.603175    2  \n",
       "2     0.515873    2  \n",
       "3     0.666945    1  \n",
       "4     0.547619    2  "
      ]
     },
     "execution_count": 15,
     "metadata": {},
     "output_type": "execute_result"
    }
   ],
   "source": [
    "encoder= ce.OrdinalEncoder(cols=['island','sex'])\n",
    "df=encoder.fit_transform(df)\n",
    "df.head()"
   ]
  },
  {
   "cell_type": "markdown",
   "id": "eb2e14f1",
   "metadata": {},
   "source": [
    "# Veri Görselleştirme"
   ]
  },
  {
   "cell_type": "code",
   "execution_count": 16,
   "id": "75eb794f",
   "metadata": {},
   "outputs": [],
   "source": [
    "Adelie=df[df.species=='Adelie']\n",
    "Chinstrap=df[df.species=='Chinstrap']\n",
    "Gentoo=df[df.species=='Gentoo']"
   ]
  },
  {
   "cell_type": "code",
   "execution_count": 17,
   "id": "ec08cde3",
   "metadata": {},
   "outputs": [
    {
     "data": {
      "image/png": "[encoded data removed]",
      "text/plain": [
       "<Figure size 640x480 with 1 Axes>"
      ]
     },
     "metadata": {},
     "output_type": "display_data"
    }
   ],
   "source": [
    "plt.scatter(Adelie.flipper_length_mm, Adelie.body_mass_g, color='red', label='Adelie')\n",
    "plt.scatter(Chinstrap.flipper_length_mm, Chinstrap.body_mass_g, color='green', label='Chinstrap')\n",
    "plt.scatter(Gentoo.flipper_length_mm, Gentoo.body_mass_g, color='blue', label='Gentoo')\n",
    "plt.xlabel('flipper_length_mm')\n",
    "plt.ylabel('body_mass_g')\n",
    "plt.legend()\n",
    "plt.show()"
   ]
  },
  {
   "cell_type": "code",
   "execution_count": 18,
   "id": "f68fa7c5",
   "metadata": {},
   "outputs": [],
   "source": [
    "# Shuffle dataset rows\n",
    "df=df.sample(frac = 1)"
   ]
  },
  {
   "cell_type": "code",
   "execution_count": 19,
   "id": "f48eefb7",
   "metadata": {},
   "outputs": [
    {
     "data": {
      "text/html": [
       "<div>\n",
       "<style scoped>\n",
       "    .dataframe tbody tr th:only-of-type {\n",
       "        vertical-align: middle;\n",
       "    }\n",
       "\n",
       "    .dataframe tbody tr th {\n",
       "        vertical-align: top;\n",
       "    }\n",
       "\n",
       "    .dataframe thead th {\n",
       "        text-align: right;\n",
       "    }\n",
       "</style>\n",
       "<table border=\"1\" class=\"dataframe\">\n",
       "  <thead>\n",
       "    <tr style=\"text-align: right;\">\n",
       "      <th></th>\n",
       "      <th>species</th>\n",
       "      <th>island</th>\n",
       "      <th>culmen_length_mm</th>\n",
       "      <th>culmen_depth_mm</th>\n",
       "      <th>flipper_length_mm</th>\n",
       "      <th>body_mass_g</th>\n",
       "      <th>sex</th>\n",
       "    </tr>\n",
       "  </thead>\n",
       "  <tbody>\n",
       "    <tr>\n",
       "      <th>241</th>\n",
       "      <td>Gentoo</td>\n",
       "      <td>2</td>\n",
       "      <td>0.756711</td>\n",
       "      <td>0.674419</td>\n",
       "      <td>0.930736</td>\n",
       "      <td>0.793651</td>\n",
       "      <td>2</td>\n",
       "    </tr>\n",
       "    <tr>\n",
       "      <th>105</th>\n",
       "      <td>Adelie</td>\n",
       "      <td>2</td>\n",
       "      <td>0.666107</td>\n",
       "      <td>0.879070</td>\n",
       "      <td>0.796537</td>\n",
       "      <td>0.563492</td>\n",
       "      <td>1</td>\n",
       "    </tr>\n",
       "    <tr>\n",
       "      <th>325</th>\n",
       "      <td>Gentoo</td>\n",
       "      <td>2</td>\n",
       "      <td>0.785235</td>\n",
       "      <td>0.748837</td>\n",
       "      <td>0.930736</td>\n",
       "      <td>0.873016</td>\n",
       "      <td>1</td>\n",
       "    </tr>\n",
       "    <tr>\n",
       "      <th>8</th>\n",
       "      <td>Adelie</td>\n",
       "      <td>1</td>\n",
       "      <td>0.572148</td>\n",
       "      <td>0.841860</td>\n",
       "      <td>0.835498</td>\n",
       "      <td>0.551587</td>\n",
       "      <td>1</td>\n",
       "    </tr>\n",
       "    <tr>\n",
       "      <th>190</th>\n",
       "      <td>Chinstrap</td>\n",
       "      <td>3</td>\n",
       "      <td>0.786913</td>\n",
       "      <td>0.772093</td>\n",
       "      <td>0.831169</td>\n",
       "      <td>0.428571</td>\n",
       "      <td>2</td>\n",
       "    </tr>\n",
       "  </tbody>\n",
       "</table>\n",
       "</div>"
      ],
      "text/plain": [
       "       species  island  culmen_length_mm  culmen_depth_mm  flipper_length_mm  \\\n",
       "241     Gentoo       2          0.756711         0.674419           0.930736   \n",
       "105     Adelie       2          0.666107         0.879070           0.796537   \n",
       "325     Gentoo       2          0.785235         0.748837           0.930736   \n",
       "8       Adelie       1          0.572148         0.841860           0.835498   \n",
       "190  Chinstrap       3          0.786913         0.772093           0.831169   \n",
       "\n",
       "     body_mass_g  sex  \n",
       "241     0.793651    2  \n",
       "105     0.563492    1  \n",
       "325     0.873016    1  \n",
       "8       0.551587    1  \n",
       "190     0.428571    2  "
      ]
     },
     "execution_count": 19,
     "metadata": {},
     "output_type": "execute_result"
    }
   ],
   "source": [
    "df.head()"
   ]
  },
  {
   "cell_type": "markdown",
   "id": "72d497c3",
   "metadata": {},
   "source": [
    "### Veri setinin eğitim ve test seti olarak ayrılması"
   ]
  },
  {
   "cell_type": "code",
   "execution_count": 20,
   "id": "88fcf3b2",
   "metadata": {},
   "outputs": [],
   "source": [
    "X=df.drop(['species'],axis=1)\n",
    "Y=df['species']"
   ]
  },
  {
   "cell_type": "code",
   "execution_count": 21,
   "id": "f43d750b",
   "metadata": {},
   "outputs": [],
   "source": [
    "from sklearn.model_selection import train_test_split\n",
    "X_train, X_test, Y_train, Y_test=train_test_split(X,Y,test_size=0.3,random_state=1)"
   ]
  },
  {
   "cell_type": "code",
   "execution_count": 22,
   "id": "51a6498f",
   "metadata": {},
   "outputs": [
    {
     "data": {
      "text/plain": [
       "((240, 6), (104, 6))"
      ]
     },
     "execution_count": 22,
     "metadata": {},
     "output_type": "execute_result"
    }
   ],
   "source": [
    "X_train.shape, X_test.shape"
   ]
  },
  {
   "cell_type": "code",
   "execution_count": 23,
   "id": "83646cbc",
   "metadata": {},
   "outputs": [
    {
     "data": {
      "text/html": [
       "<div>\n",
       "<style scoped>\n",
       "    .dataframe tbody tr th:only-of-type {\n",
       "        vertical-align: middle;\n",
       "    }\n",
       "\n",
       "    .dataframe tbody tr th {\n",
       "        vertical-align: top;\n",
       "    }\n",
       "\n",
       "    .dataframe thead th {\n",
       "        text-align: right;\n",
       "    }\n",
       "</style>\n",
       "<table border=\"1\" class=\"dataframe\">\n",
       "  <thead>\n",
       "    <tr style=\"text-align: right;\">\n",
       "      <th></th>\n",
       "      <th>island</th>\n",
       "      <th>culmen_length_mm</th>\n",
       "      <th>culmen_depth_mm</th>\n",
       "      <th>flipper_length_mm</th>\n",
       "      <th>body_mass_g</th>\n",
       "      <th>sex</th>\n",
       "    </tr>\n",
       "  </thead>\n",
       "  <tbody>\n",
       "    <tr>\n",
       "      <th>38</th>\n",
       "      <td>3</td>\n",
       "      <td>0.630872</td>\n",
       "      <td>0.897674</td>\n",
       "      <td>0.783550</td>\n",
       "      <td>0.523810</td>\n",
       "      <td>2</td>\n",
       "    </tr>\n",
       "    <tr>\n",
       "      <th>167</th>\n",
       "      <td>3</td>\n",
       "      <td>0.847315</td>\n",
       "      <td>0.911628</td>\n",
       "      <td>0.870130</td>\n",
       "      <td>0.642857</td>\n",
       "      <td>1</td>\n",
       "    </tr>\n",
       "    <tr>\n",
       "      <th>75</th>\n",
       "      <td>1</td>\n",
       "      <td>0.718121</td>\n",
       "      <td>0.860465</td>\n",
       "      <td>0.844156</td>\n",
       "      <td>0.674603</td>\n",
       "      <td>1</td>\n",
       "    </tr>\n",
       "    <tr>\n",
       "      <th>235</th>\n",
       "      <td>2</td>\n",
       "      <td>0.827181</td>\n",
       "      <td>0.730233</td>\n",
       "      <td>0.939394</td>\n",
       "      <td>0.928571</td>\n",
       "      <td>1</td>\n",
       "    </tr>\n",
       "    <tr>\n",
       "      <th>266</th>\n",
       "      <td>2</td>\n",
       "      <td>0.763423</td>\n",
       "      <td>0.646512</td>\n",
       "      <td>0.909091</td>\n",
       "      <td>0.666667</td>\n",
       "      <td>2</td>\n",
       "    </tr>\n",
       "    <tr>\n",
       "      <th>...</th>\n",
       "      <td>...</td>\n",
       "      <td>...</td>\n",
       "      <td>...</td>\n",
       "      <td>...</td>\n",
       "      <td>...</td>\n",
       "      <td>...</td>\n",
       "    </tr>\n",
       "    <tr>\n",
       "      <th>100</th>\n",
       "      <td>2</td>\n",
       "      <td>0.587248</td>\n",
       "      <td>0.832558</td>\n",
       "      <td>0.831169</td>\n",
       "      <td>0.591270</td>\n",
       "      <td>2</td>\n",
       "    </tr>\n",
       "    <tr>\n",
       "      <th>88</th>\n",
       "      <td>3</td>\n",
       "      <td>0.642617</td>\n",
       "      <td>0.893023</td>\n",
       "      <td>0.818182</td>\n",
       "      <td>0.626984</td>\n",
       "      <td>1</td>\n",
       "    </tr>\n",
       "    <tr>\n",
       "      <th>172</th>\n",
       "      <td>3</td>\n",
       "      <td>0.711409</td>\n",
       "      <td>0.804651</td>\n",
       "      <td>0.783550</td>\n",
       "      <td>0.571429</td>\n",
       "      <td>2</td>\n",
       "    </tr>\n",
       "    <tr>\n",
       "      <th>189</th>\n",
       "      <td>3</td>\n",
       "      <td>0.872483</td>\n",
       "      <td>0.962791</td>\n",
       "      <td>0.909091</td>\n",
       "      <td>0.761905</td>\n",
       "      <td>1</td>\n",
       "    </tr>\n",
       "    <tr>\n",
       "      <th>161</th>\n",
       "      <td>3</td>\n",
       "      <td>0.860738</td>\n",
       "      <td>0.925581</td>\n",
       "      <td>0.857143</td>\n",
       "      <td>0.587302</td>\n",
       "      <td>1</td>\n",
       "    </tr>\n",
       "  </tbody>\n",
       "</table>\n",
       "<p>240 rows × 6 columns</p>\n",
       "</div>"
      ],
      "text/plain": [
       "     island  culmen_length_mm  culmen_depth_mm  flipper_length_mm  \\\n",
       "38        3          0.630872         0.897674           0.783550   \n",
       "167       3          0.847315         0.911628           0.870130   \n",
       "75        1          0.718121         0.860465           0.844156   \n",
       "235       2          0.827181         0.730233           0.939394   \n",
       "266       2          0.763423         0.646512           0.909091   \n",
       "..      ...               ...              ...                ...   \n",
       "100       2          0.587248         0.832558           0.831169   \n",
       "88        3          0.642617         0.893023           0.818182   \n",
       "172       3          0.711409         0.804651           0.783550   \n",
       "189       3          0.872483         0.962791           0.909091   \n",
       "161       3          0.860738         0.925581           0.857143   \n",
       "\n",
       "     body_mass_g  sex  \n",
       "38      0.523810    2  \n",
       "167     0.642857    1  \n",
       "75      0.674603    1  \n",
       "235     0.928571    1  \n",
       "266     0.666667    2  \n",
       "..           ...  ...  \n",
       "100     0.591270    2  \n",
       "88      0.626984    1  \n",
       "172     0.571429    2  \n",
       "189     0.761905    1  \n",
       "161     0.587302    1  \n",
       "\n",
       "[240 rows x 6 columns]"
      ]
     },
     "execution_count": 23,
     "metadata": {},
     "output_type": "execute_result"
    }
   ],
   "source": [
    "X_train"
   ]
  },
  {
   "cell_type": "code",
   "execution_count": 24,
   "id": "1c81ef00",
   "metadata": {},
   "outputs": [
    {
     "data": {
      "text/plain": [
       "38        Adelie\n",
       "167    Chinstrap\n",
       "75        Adelie\n",
       "235       Gentoo\n",
       "266       Gentoo\n",
       "         ...    \n",
       "100       Adelie\n",
       "88        Adelie\n",
       "172    Chinstrap\n",
       "189    Chinstrap\n",
       "161    Chinstrap\n",
       "Name: species, Length: 240, dtype: object"
      ]
     },
     "execution_count": 24,
     "metadata": {},
     "output_type": "execute_result"
    }
   ],
   "source": [
    "Y_train"
   ]
  },
  {
   "cell_type": "markdown",
   "id": "62bbfa78",
   "metadata": {},
   "source": [
    "# Naive Bayes "
   ]
  },
  {
   "cell_type": "code",
   "execution_count": 25,
   "id": "0c14c7b8",
   "metadata": {},
   "outputs": [],
   "source": [
    "Y_train=Y_train.tolist()"
   ]
  },
  {
   "cell_type": "code",
   "execution_count": 26,
   "id": "94b37760",
   "metadata": {},
   "outputs": [
    {
     "name": "stdout",
     "output_type": "stream",
     "text": [
      "<class 'pandas.core.frame.DataFrame'>\n"
     ]
    }
   ],
   "source": [
    "print(type(X_train))"
   ]
  },
  {
   "cell_type": "code",
   "execution_count": 27,
   "id": "87450305",
   "metadata": {},
   "outputs": [],
   "source": [
    "X_train=X_train.to_numpy()"
   ]
  },
  {
   "cell_type": "code",
   "execution_count": 28,
   "id": "864cb713",
   "metadata": {},
   "outputs": [],
   "source": [
    "class features:\n",
    "    def __init__(self, findis, fdata):\n",
    "        self.fdata = [fdata]\n",
    "        self.findis=findis\n",
    "    def add_data(self,data):\n",
    "        self.fdata.append(data)\n",
    "    def stdrt_deviation(self):\n",
    "        return stdev(self.fdata)\n",
    "    def ret_mean(self):\n",
    "        return statistics.mean(self.fdata)\n",
    "    def probability(self,data):\n",
    "        stsap=stdev(self.fdata)\n",
    "        if stsap==0:\n",
    "            stsap=1\n",
    "        prob=(1/(stsap*math.sqrt(2*math.pi)))*(math.exp((-1/2)*math.pow((data-statistics.mean(self.fdata))/stsap,2)))\n",
    "        return prob"
   ]
  },
  {
   "cell_type": "markdown",
   "id": "c348870b",
   "metadata": {},
   "source": [
    "#### Eğitim verilerini her özellik için listelere aktarılması"
   ]
  },
  {
   "cell_type": "code",
   "execution_count": 29,
   "id": "479e8af1",
   "metadata": {},
   "outputs": [],
   "source": [
    "# Adelie, Chinstrap, Gentoo\n",
    "alist=[]; clist=[]; glist=[];\n",
    "for i in range(len(Y_train)):\n",
    "    if Y_train[i]=='Adelie':\n",
    "        if alist:\n",
    "            for j in range(6):\n",
    "                alist[j].add_data(X_train[i][j])\n",
    "        else:\n",
    "            for j in range(6):\n",
    "                alist.append(features(j,X_train[i][j]))\n",
    "    elif Y_train[i]=='Chinstrap':\n",
    "        if clist:\n",
    "            for j in range(6):\n",
    "                clist[j].add_data(X_train[i][j])\n",
    "        else:\n",
    "            for j in range(6):\n",
    "                clist.append(features(j,X_train[i][j]))\n",
    "    elif Y_train[i]=='Gentoo':\n",
    "        if glist:\n",
    "            for j in range(6):\n",
    "                glist[j].add_data(X_train[i][j])\n",
    "        else:\n",
    "            for j in range(6):\n",
    "                glist.append(features(j,X_train[i][j]))\n",
    "        \n",
    "                "
   ]
  },
  {
   "cell_type": "code",
   "execution_count": 30,
   "id": "3b63e633",
   "metadata": {},
   "outputs": [
    {
     "name": "stdout",
     "output_type": "stream",
     "text": [
      "0.8478486610385855\n",
      "0.045886287223046766\n",
      "0.056434509046964634\n",
      "0.02817226613408896\n",
      "0.07340693817136312\n",
      "0.5009509820989526\n"
     ]
    }
   ],
   "source": [
    "# Adelie sınıfı için her sütünun standart sapma değerleri\n",
    "for i in range(6):\n",
    "    print(alist[i].stdrt_deviation())"
   ]
  },
  {
   "cell_type": "code",
   "execution_count": 31,
   "id": "f5609301",
   "metadata": {},
   "outputs": [],
   "source": [
    "# model sonuç etiketlerinin tutulduğu sınıf\n",
    "p_test=[]\n",
    "row,col=len(X_test.axes[0]),len(X_test.axes[1])\n",
    "X_test=X_test.to_numpy()\n",
    "Y_test=Y_test.tolist()"
   ]
  },
  {
   "cell_type": "code",
   "execution_count": 32,
   "id": "2e754902",
   "metadata": {},
   "outputs": [],
   "source": [
    "for i in range(row):\n",
    "    pa,pc,pg=0,0,0;\n",
    "    for j in range(col):\n",
    "        pa+=alist[j].probability(X_test[i][j])\n",
    "        pc+=clist[j].probability(X_test[i][j])\n",
    "        pg+=glist[j].probability(X_test[i][j])\n",
    "    if pa>pc and pa>pg:\n",
    "        p_test.append('Adelie')\n",
    "    elif pc>pa and pc>pg:\n",
    "        p_test.append('Chinstrap')\n",
    "    elif pg>pa and pg>pc:\n",
    "        p_test.append('Gentoo')"
   ]
  },
  {
   "cell_type": "code",
   "execution_count": 33,
   "id": "3b426ccc",
   "metadata": {},
   "outputs": [
    {
     "data": {
      "text/plain": [
       "104"
      ]
     },
     "execution_count": 33,
     "metadata": {},
     "output_type": "execute_result"
    }
   ],
   "source": [
    "len(p_test)"
   ]
  },
  {
   "cell_type": "code",
   "execution_count": 34,
   "id": "681aae40",
   "metadata": {},
   "outputs": [
    {
     "name": "stdout",
     "output_type": "stream",
     "text": [
      "Gentoo            Gentoo\n",
      "Gentoo            Gentoo\n",
      "Gentoo            Gentoo\n",
      "Adelie            Adelie\n",
      "Gentoo            Gentoo\n",
      "Adelie            Adelie\n",
      "Gentoo            Gentoo\n",
      "Gentoo            Gentoo\n",
      "Gentoo            Gentoo\n",
      "Adelie            Adelie\n",
      "Chinstrap         Chinstrap\n",
      "Gentoo            Gentoo\n",
      "Gentoo            Gentoo\n",
      "Adelie            Adelie\n",
      "Adelie            Adelie\n",
      "Adelie            Adelie\n",
      "Chinstrap         Chinstrap\n",
      "Adelie            Chinstrap\n",
      "Adelie            Chinstrap\n",
      "Gentoo            Gentoo\n",
      "Gentoo            Gentoo\n",
      "Chinstrap         Adelie\n",
      "Chinstrap         Chinstrap\n",
      "Gentoo            Gentoo\n",
      "Adelie            Adelie\n",
      "Adelie            Adelie\n",
      "Chinstrap         Adelie\n",
      "Chinstrap         Chinstrap\n",
      "Adelie            Adelie\n",
      "Chinstrap         Chinstrap\n",
      "Gentoo            Gentoo\n",
      "Adelie            Adelie\n",
      "Chinstrap         Chinstrap\n",
      "Adelie            Adelie\n",
      "Gentoo            Gentoo\n",
      "Gentoo            Gentoo\n",
      "Chinstrap         Adelie\n",
      "Adelie            Adelie\n",
      "Gentoo            Gentoo\n",
      "Gentoo            Gentoo\n",
      "Gentoo            Gentoo\n",
      "Gentoo            Gentoo\n",
      "Adelie            Adelie\n",
      "Gentoo            Gentoo\n",
      "Gentoo            Gentoo\n",
      "Chinstrap         Chinstrap\n",
      "Chinstrap         Adelie\n",
      "Adelie            Adelie\n",
      "Adelie            Adelie\n",
      "Chinstrap         Chinstrap\n",
      "Adelie            Adelie\n",
      "Adelie            Adelie\n",
      "Adelie            Adelie\n",
      "Chinstrap         Chinstrap\n",
      "Gentoo            Gentoo\n",
      "Adelie            Adelie\n",
      "Adelie            Adelie\n",
      "Chinstrap         Adelie\n",
      "Gentoo            Gentoo\n",
      "Adelie            Adelie\n",
      "Adelie            Chinstrap\n",
      "Chinstrap         Chinstrap\n",
      "Adelie            Adelie\n",
      "Adelie            Adelie\n",
      "Adelie            Adelie\n",
      "Chinstrap         Chinstrap\n",
      "Adelie            Adelie\n",
      "Adelie            Adelie\n",
      "Adelie            Adelie\n",
      "Gentoo            Gentoo\n",
      "Adelie            Adelie\n",
      "Gentoo            Gentoo\n",
      "Gentoo            Gentoo\n",
      "Chinstrap         Chinstrap\n",
      "Gentoo            Gentoo\n",
      "Adelie            Chinstrap\n",
      "Gentoo            Gentoo\n",
      "Chinstrap         Chinstrap\n",
      "Adelie            Adelie\n",
      "Chinstrap         Chinstrap\n",
      "Adelie            Adelie\n",
      "Adelie            Chinstrap\n",
      "Gentoo            Gentoo\n",
      "Adelie            Adelie\n",
      "Adelie            Adelie\n",
      "Gentoo            Gentoo\n",
      "Adelie            Adelie\n",
      "Gentoo            Gentoo\n",
      "Gentoo            Gentoo\n",
      "Gentoo            Gentoo\n",
      "Gentoo            Gentoo\n",
      "Chinstrap         Chinstrap\n",
      "Adelie            Adelie\n",
      "Adelie            Adelie\n",
      "Adelie            Adelie\n",
      "Gentoo            Gentoo\n",
      "Chinstrap         Chinstrap\n",
      "Chinstrap         Chinstrap\n",
      "Adelie            Adelie\n",
      "Gentoo            Gentoo\n",
      "Gentoo            Gentoo\n",
      "Adelie            Adelie\n",
      "Chinstrap         Adelie\n",
      "Adelie            Chinstrap\n"
     ]
    }
   ],
   "source": [
    "# hata sayisi\n",
    "fcount=0\n",
    "for i in range(len(p_test)):\n",
    "    if Y_test[i]!=p_test[i]:\n",
    "        fcount+=1\n",
    "    print(Y_test[i],p_test[i],sep=((18-len(Y_test[i]))*' '))"
   ]
  },
  {
   "cell_type": "code",
   "execution_count": 35,
   "id": "85e1a6c1",
   "metadata": {},
   "outputs": [
    {
     "data": {
      "text/plain": [
       "12"
      ]
     },
     "execution_count": 35,
     "metadata": {},
     "output_type": "execute_result"
    }
   ],
   "source": [
    "fcount"
   ]
  },
  {
   "cell_type": "code",
   "execution_count": 36,
   "id": "95fbd828",
   "metadata": {},
   "outputs": [],
   "source": [
    "tcount=len(p_test)-fcount\n",
    "accuracy_score=tcount/len(Y_test)"
   ]
  },
  {
   "cell_type": "code",
   "execution_count": 37,
   "id": "0ca5a155",
   "metadata": {},
   "outputs": [
    {
     "name": "stdout",
     "output_type": "stream",
     "text": [
      "0.8846153846153846\n"
     ]
    }
   ],
   "source": [
    "print(accuracy_score)"
   ]
  },
  {
   "cell_type": "code",
   "execution_count": 38,
   "id": "5d278bc0",
   "metadata": {},
   "outputs": [
    {
     "data": {
      "image/png": "[encoded data removed]",
      "text/plain": [
       "<Figure size 640x480 with 2 Axes>"
      ]
     },
     "metadata": {},
     "output_type": "display_data"
    }
   ],
   "source": [
    "from sklearn.metrics import confusion_matrix as cm\n",
    "from sklearn import metrics\n",
    "import seaborn as sns\n",
    "score=metrics.accuracy_score(Y_test, p_test)\n",
    "cm1=cm(Y_test, p_test)\n",
    "sns.heatmap(cm1, annot=True, fmt=\".0f\")\n",
    "plt.xlabel(\"Predicted Values\")\n",
    "plt.ylabel(\"Actual Values\")\n",
    "plt.title(\"Accuracy Score: {0}\".format(score), size=15)\n",
    "plt.show()"
   ]
  },
  {
   "cell_type": "markdown",
   "id": "a7efbde0",
   "metadata": {},
   "source": [
    "#  K-Means"
   ]
  },
  {
   "cell_type": "code",
   "execution_count": 39,
   "id": "2a045128",
   "metadata": {},
   "outputs": [],
   "source": [
    "import pandas as pd\n",
    "import matplotlib.pyplot as plt\n",
    "import category_encoders as ce\n",
    "import random\n",
    "import math"
   ]
  },
  {
   "cell_type": "code",
   "execution_count": 52,
   "id": "5ffa596d",
   "metadata": {},
   "outputs": [],
   "source": [
    "a_count=df[df.species=='Adelie'].count()\n",
    "c_count=df[df.species=='Chinstrap'].count()\n",
    "g_count=df[df.species=='Gentoo'].count()\n",
    "a_count=a_count[0]\n",
    "c_count=c_count[0]\n",
    "g_count=g_count[0]"
   ]
  },
  {
   "cell_type": "code",
   "execution_count": 53,
   "id": "d602ccd6",
   "metadata": {},
   "outputs": [
    {
     "data": {
      "text/plain": [
       "(152, 68, 124)"
      ]
     },
     "execution_count": 53,
     "metadata": {},
     "output_type": "execute_result"
    }
   ],
   "source": [
    "a_count, c_count, g_count"
   ]
  },
  {
   "cell_type": "code",
   "execution_count": 54,
   "id": "47d83e1c",
   "metadata": {},
   "outputs": [
    {
     "data": {
      "text/html": [
       "<div>\n",
       "<style scoped>\n",
       "    .dataframe tbody tr th:only-of-type {\n",
       "        vertical-align: middle;\n",
       "    }\n",
       "\n",
       "    .dataframe tbody tr th {\n",
       "        vertical-align: top;\n",
       "    }\n",
       "\n",
       "    .dataframe thead th {\n",
       "        text-align: right;\n",
       "    }\n",
       "</style>\n",
       "<table border=\"1\" class=\"dataframe\">\n",
       "  <thead>\n",
       "    <tr style=\"text-align: right;\">\n",
       "      <th></th>\n",
       "      <th>island</th>\n",
       "      <th>culmen_length_mm</th>\n",
       "      <th>culmen_depth_mm</th>\n",
       "      <th>flipper_length_mm</th>\n",
       "      <th>body_mass_g</th>\n",
       "      <th>sex</th>\n",
       "    </tr>\n",
       "  </thead>\n",
       "  <tbody>\n",
       "    <tr>\n",
       "      <th>241</th>\n",
       "      <td>2</td>\n",
       "      <td>0.756711</td>\n",
       "      <td>0.674419</td>\n",
       "      <td>0.930736</td>\n",
       "      <td>0.793651</td>\n",
       "      <td>2</td>\n",
       "    </tr>\n",
       "    <tr>\n",
       "      <th>105</th>\n",
       "      <td>2</td>\n",
       "      <td>0.666107</td>\n",
       "      <td>0.879070</td>\n",
       "      <td>0.796537</td>\n",
       "      <td>0.563492</td>\n",
       "      <td>1</td>\n",
       "    </tr>\n",
       "    <tr>\n",
       "      <th>325</th>\n",
       "      <td>2</td>\n",
       "      <td>0.785235</td>\n",
       "      <td>0.748837</td>\n",
       "      <td>0.930736</td>\n",
       "      <td>0.873016</td>\n",
       "      <td>1</td>\n",
       "    </tr>\n",
       "    <tr>\n",
       "      <th>8</th>\n",
       "      <td>1</td>\n",
       "      <td>0.572148</td>\n",
       "      <td>0.841860</td>\n",
       "      <td>0.835498</td>\n",
       "      <td>0.551587</td>\n",
       "      <td>1</td>\n",
       "    </tr>\n",
       "    <tr>\n",
       "      <th>190</th>\n",
       "      <td>3</td>\n",
       "      <td>0.786913</td>\n",
       "      <td>0.772093</td>\n",
       "      <td>0.831169</td>\n",
       "      <td>0.428571</td>\n",
       "      <td>2</td>\n",
       "    </tr>\n",
       "  </tbody>\n",
       "</table>\n",
       "</div>"
      ],
      "text/plain": [
       "     island  culmen_length_mm  culmen_depth_mm  flipper_length_mm  \\\n",
       "241       2          0.756711         0.674419           0.930736   \n",
       "105       2          0.666107         0.879070           0.796537   \n",
       "325       2          0.785235         0.748837           0.930736   \n",
       "8         1          0.572148         0.841860           0.835498   \n",
       "190       3          0.786913         0.772093           0.831169   \n",
       "\n",
       "     body_mass_g  sex  \n",
       "241     0.793651    2  \n",
       "105     0.563492    1  \n",
       "325     0.873016    1  \n",
       "8       0.551587    1  \n",
       "190     0.428571    2  "
      ]
     },
     "execution_count": 54,
     "metadata": {},
     "output_type": "execute_result"
    }
   ],
   "source": [
    "df_label=df['species']\n",
    "df_kmeans=df.drop(['species'],axis=1)\n",
    "df_kmeans.head()"
   ]
  },
  {
   "cell_type": "code",
   "execution_count": 55,
   "id": "2e0353ba",
   "metadata": {},
   "outputs": [],
   "source": [
    "df_kmeans=df_kmeans.to_numpy()"
   ]
  },
  {
   "cell_type": "code",
   "execution_count": 58,
   "id": "e3586273",
   "metadata": {},
   "outputs": [],
   "source": [
    "# kume merkezlerini random olarak vermek\n",
    "C1=df_kmeans[random.randint(0,len(df_kmeans))]\n",
    "C2=df_kmeans[random.randint(0,len(df_kmeans))]\n",
    "C3=df_kmeans[random.randint(0,len(df_kmeans))]"
   ]
  },
  {
   "cell_type": "code",
   "execution_count": 59,
   "id": "8467cac7",
   "metadata": {},
   "outputs": [],
   "source": [
    "C1=[round(a,4) for a in C1]\n",
    "C2=[round(a,4) for a in C2]\n",
    "C3=[round(a,4) for a in C3]"
   ]
  },
  {
   "cell_type": "code",
   "execution_count": 60,
   "id": "43fa7c57",
   "metadata": {},
   "outputs": [
    {
     "data": {
      "text/plain": [
       "([2.0, 0.8305, 0.7488, 0.9697, 0.8968, 1.0],\n",
       " [2.0, 0.8121, 0.6698, 0.8788, 0.7341, 2.0],\n",
       " [2.0, 0.7567, 0.6698, 0.9091, 0.6984, 2.0])"
      ]
     },
     "execution_count": 60,
     "metadata": {},
     "output_type": "execute_result"
    }
   ],
   "source": [
    "C1, C2, C3"
   ]
  },
  {
   "cell_type": "code",
   "execution_count": 61,
   "id": "9a901873",
   "metadata": {},
   "outputs": [],
   "source": [
    "# Öklid uzaklık fonksiyonu\n",
    "def distance(arr1, arr2):\n",
    "    count=0\n",
    "    for i in range(len(arr1)):\n",
    "        count+=math.pow((arr1[i]-arr2[i]),2)\n",
    "    return math.sqrt(count)"
   ]
  },
  {
   "cell_type": "code",
   "execution_count": 62,
   "id": "72fb0192",
   "metadata": {},
   "outputs": [],
   "source": [
    "# sinif etiket tahmini\n",
    "def calc_distance(C1,C2,C3):\n",
    "    label_pred=[]\n",
    "    for i in range(len(df_kmeans)):\n",
    "        d1=distance(C1,df_kmeans[i])\n",
    "        d2=distance(C2,df_kmeans[i])\n",
    "        d3=distance(C3,df_kmeans[i])\n",
    "        #print(d1,d2,d3,sep=' ')\n",
    "        if d1<d2 and d1<d3:\n",
    "            label_pred.append('C1')\n",
    "        elif d2<d1 and d2<d3:\n",
    "            label_pred.append('C2')\n",
    "        elif d3<d1 and d3<d2:\n",
    "            label_pred.append('C3')\n",
    "    return label_pred"
   ]
  },
  {
   "cell_type": "code",
   "execution_count": 63,
   "id": "6076bd3d",
   "metadata": {},
   "outputs": [],
   "source": [
    "# yeni kume merkezleri hesabi\n",
    "def new_kmeans(label_pred):\n",
    "    nC1,nC2,nC3=[],[],[];\n",
    "    for i in range(len(df_kmeans)):\n",
    "        if label_pred[i]=='C1':\n",
    "            if nC1:\n",
    "                for j in range(6):\n",
    "                    nC1[j]+=df_kmeans[i][j]\n",
    "            else:\n",
    "                for j in range(6):\n",
    "                    nC1.append(df_kmeans[i][j])\n",
    "        elif label_pred[i]=='C2':\n",
    "            if nC2:\n",
    "                for j in range(6):\n",
    "                    nC2[j]+=df_kmeans[i][j]\n",
    "            else:\n",
    "                for j in range(6):\n",
    "                    nC2.append(df_kmeans[i][j])\n",
    "        elif label_pred[i]=='C3':\n",
    "            if nC3:\n",
    "                for j in range(6):\n",
    "                    nC3[j]+=df_kmeans[i][j]\n",
    "            else:\n",
    "                for j in range(6):\n",
    "                    nC3.append(df_kmeans[i][j])\n",
    "    nC1=[round(a/label_pred.count('C1'),4) for a in nC1]\n",
    "    nC2=[round(a/label_pred.count('C2'),4) for a in nC2]\n",
    "    nC3=[round(a/label_pred.count('C3'),4) for a in nC3]\n",
    "    #print(nC1,nC2,nC3,sep='\\n')\n",
    "    return nC1,nC2,nC3"
   ]
  },
  {
   "cell_type": "code",
   "execution_count": 64,
   "id": "a94fd13a",
   "metadata": {},
   "outputs": [
    {
     "name": "stdout",
     "output_type": "stream",
     "text": [
      "[2.0, 0.8305, 0.7488, 0.9697, 0.8968, 1.0]\n",
      "[2.0, 0.8121, 0.6698, 0.8788, 0.7341, 2.0]\n",
      "[2.0, 0.7567, 0.6698, 0.9091, 0.6984, 2.0]\n",
      "Yeni Kume Merkezleri\n",
      "[2.1966, 0.7653, 0.8294, 0.8836, 0.7163, 1.0]\n",
      "[2.1111, 0.8038, 0.6935, 0.9136, 0.7529, 2.0]\n",
      "[2.2446, 0.6877, 0.7774, 0.8435, 0.587, 2.0072]\n"
     ]
    }
   ],
   "source": [
    "label_pred=calc_distance(C1,C2,C3)\n",
    "nC1,nC2,nC3=new_kmeans(label_pred)\n",
    "ayrac=\"Yeni Kume Merkezleri\"\n",
    "print(C1,C2,C3,ayrac,nC1,nC2,nC3,sep='\\n')"
   ]
  },
  {
   "cell_type": "code",
   "execution_count": 65,
   "id": "7d589b94",
   "metadata": {},
   "outputs": [
    {
     "name": "stdout",
     "output_type": "stream",
     "text": [
      "[2.1966, 0.7653, 0.8294, 0.8836, 0.7163, 1.0]\n",
      "[2.1111, 0.8038, 0.6935, 0.9136, 0.7529, 2.0]\n",
      "[2.2446, 0.6877, 0.7774, 0.8435, 0.587, 2.0072]\n",
      "[2.1966, 0.7653, 0.8294, 0.8836, 0.7163, 1.0]\n",
      "[1.7108, 0.7254, 0.7076, 0.8905, 0.6843, 2.012]\n",
      "[2.7349, 0.6877, 0.8199, 0.8193, 0.5438, 2.0]\n",
      "[2.1966, 0.7653, 0.8294, 0.8836, 0.7163, 1.0]\n",
      "[1.7714, 0.7048, 0.7319, 0.8737, 0.6529, 2.0095]\n",
      "[3.0, 0.7097, 0.8187, 0.8226, 0.547, 2.0]\n"
     ]
    }
   ],
   "source": [
    "while 1:\n",
    "    #print(C1,C2,C3,sep='\\n')  \n",
    "    if C1==nC1 and C2==nC2 and C3==nC3:\n",
    "        break\n",
    "    else:\n",
    "        C1,C2,C3=nC1,nC2,nC3;\n",
    "        print(C1,C2,C3,sep='\\n')\n",
    "        label_pred=calc_distance(C1,C2,C3)\n",
    "        nC1,nC2,nC3=new_kmeans(label_pred)"
   ]
  },
  {
   "cell_type": "code",
   "execution_count": 66,
   "id": "a5b29b22",
   "metadata": {},
   "outputs": [
    {
     "name": "stdout",
     "output_type": "stream",
     "text": [
      "[2.1966, 0.7653, 0.8294, 0.8836, 0.7163, 1.0]\n",
      "[2.1966, 0.7653, 0.8294, 0.8836, 0.7163, 1.0]\n",
      "-*-*-*-*-*-*-*-*-*-*-*-*-*-*-*\n",
      "[1.7714, 0.7048, 0.7319, 0.8737, 0.6529, 2.0095]\n",
      "[1.7714, 0.7048, 0.7319, 0.8737, 0.6529, 2.0095]\n",
      "-*-*-*-*-*-*-*-*-*-*-*-*-*-*-*\n",
      "[3.0, 0.7097, 0.8187, 0.8226, 0.547, 2.0]\n",
      "[3.0, 0.7097, 0.8187, 0.8226, 0.547, 2.0]\n"
     ]
    }
   ],
   "source": [
    "spr=\"-*-*-*-*-*-*-*-*-*-*-*-*-*-*-*\"\n",
    "print(C1,nC1,spr,C2,nC2,spr,C3,nC3,sep='\\n')"
   ]
  },
  {
   "cell_type": "code",
   "execution_count": 67,
   "id": "068bd85e",
   "metadata": {},
   "outputs": [],
   "source": [
    "# oluşan C1 C2 ve C3 kümelerinde Adelie, Chinstrap, Gentoo sınıf etiketlerinden kaçar adet olduğunun hesabı\n",
    "ac_list=[0,0,0]\n",
    "cc_list=[0,0,0]\n",
    "gc_list=[0,0,0]\n",
    "for i in range(len(label_pred)):\n",
    "    if df_label[i]==\"Adelie\":\n",
    "        if label_pred[i]==\"C1\":\n",
    "            ac_list[0]=ac_list[0]+1\n",
    "        elif label_pred[i]==\"C2\":\n",
    "            ac_list[1]=ac_list[1]+1\n",
    "        elif label_pred[i]==\"C3\":\n",
    "            ac_list[2]=ac_list[2]+1\n",
    "    elif df_label[i]==\"Chinstrap\":\n",
    "        if label_pred[i]==\"C1\":\n",
    "            cc_list[0]=cc_list[0]+1\n",
    "        elif label_pred[i]==\"C2\":\n",
    "            cc_list[1]=cc_list[1]+1\n",
    "        elif label_pred[i]==\"C3\":\n",
    "            cc_list[2]=cc_list[2]+1\n",
    "    elif df_label[i]==\"Gentoo\":\n",
    "        if label_pred[i]==\"C1\":\n",
    "            gc_list[0]=gc_list[0]+1\n",
    "        elif label_pred[i]==\"C2\":\n",
    "            gc_list[1]=gc_list[1]+1\n",
    "        elif label_pred[i]==\"C3\":\n",
    "            gc_list[2]=gc_list[2]+1"
   ]
  },
  {
   "cell_type": "code",
   "execution_count": 68,
   "id": "43a3de6c",
   "metadata": {},
   "outputs": [
    {
     "name": "stdout",
     "output_type": "stream",
     "text": [
      "[86, 37, 29]\n",
      "[32, 22, 14]\n",
      "[60, 46, 18]\n"
     ]
    }
   ],
   "source": [
    "print(ac_list,cc_list,gc_list,sep='\\n')"
   ]
  },
  {
   "cell_type": "code",
   "execution_count": 69,
   "id": "5d84ebf5",
   "metadata": {},
   "outputs": [
    {
     "data": {
      "text/plain": [
       "(152, 68, 124)"
      ]
     },
     "execution_count": 69,
     "metadata": {},
     "output_type": "execute_result"
    }
   ],
   "source": [
    "a_count, c_count, g_count"
   ]
  },
  {
   "cell_type": "code",
   "execution_count": 77,
   "id": "0655c7d7",
   "metadata": {},
   "outputs": [
    {
     "name": "stdout",
     "output_type": "stream",
     "text": [
      "C1 kümesinin Adelie=>0.566 Chinstrap=>0.471 Gentoo=>0.484\n",
      "C2 kümesinin Adelie=>0.243 Chinstrap=>0.324 Gentoo=>0.371\n",
      "C3 kümesinin Adelie=>0.191 Chinstrap=>0.206 Gentoo=>0.145\n"
     ]
    }
   ],
   "source": [
    "for i in range(3):\n",
    "    j=0\n",
    "    a_prob=round(ac_list[i]/a_count,3)\n",
    "    c_prob=round(cc_list[i]/c_count,3)\n",
    "    g_prob=round(gc_list[i]/g_count,3)\n",
    "    if a_prob>c_prob and a_prob>g_prob:\n",
    "        # Ci Adelie etiketini alir\n",
    "        while j<len(label_pred):\n",
    "            if label_pred[j]==\"C\"+str(i+1):\n",
    "                label_pred[j]=\"Adelie\"\n",
    "            j+=1\n",
    "    elif c_prob>a_prob and c_prob>g_prob:\n",
    "        # Ci Chinstrap etiketini alir\n",
    "        while j<len(label_pred):\n",
    "            if label_pred[j]==\"C\"+str(i+1):\n",
    "                label_pred[j]=\"Chinstrap\"\n",
    "            j+=1\n",
    "    elif g_prob>c_prob and g_prob>a_prob:\n",
    "        # Ci Gentoo etiketini alir\n",
    "        while j<len(label_pred):\n",
    "            if label_pred[j]==\"C\"+str(i+1):\n",
    "                label_pred[j]=\"Gentoo\"\n",
    "            j+=1\n",
    "            \n",
    "    print(\"C\",i+1,\" kümesinin Adelie=>\",a_prob,\" Chinstrap=>\",c_prob,\" Gentoo=>\",g_prob,sep='')"
   ]
  },
  {
   "cell_type": "code",
   "execution_count": 79,
   "id": "8feee977",
   "metadata": {},
   "outputs": [
    {
     "name": "stdout",
     "output_type": "stream",
     "text": [
      "Adelie            Gentoo\n",
      "Adelie            Adelie\n",
      "Adelie            Adelie\n",
      "Adelie            Adelie\n",
      "Adelie            Chinstrap\n",
      "Adelie            Adelie\n",
      "Adelie            Adelie\n",
      "Adelie            Chinstrap\n",
      "Adelie            Adelie\n",
      "Adelie            Chinstrap\n",
      "Adelie            Adelie\n",
      "Adelie            Adelie\n",
      "Adelie            Chinstrap\n",
      "Adelie            Adelie\n",
      "Adelie            Gentoo\n",
      "Adelie            Adelie\n",
      "Adelie            Gentoo\n",
      "Adelie            Adelie\n",
      "Adelie            Adelie\n",
      "Adelie            Gentoo\n",
      "Adelie            Gentoo\n",
      "Adelie            Adelie\n",
      "Adelie            Adelie\n",
      "Adelie            Gentoo\n",
      "Adelie            Adelie\n",
      "Adelie            Gentoo\n",
      "Adelie            Adelie\n",
      "Adelie            Adelie\n",
      "Adelie            Chinstrap\n",
      "Adelie            Adelie\n",
      "Adelie            Adelie\n",
      "Adelie            Gentoo\n",
      "Adelie            Adelie\n",
      "Adelie            Chinstrap\n",
      "Adelie            Adelie\n",
      "Adelie            Gentoo\n",
      "Adelie            Adelie\n",
      "Adelie            Adelie\n",
      "Adelie            Adelie\n",
      "Adelie            Adelie\n",
      "Adelie            Adelie\n",
      "Adelie            Chinstrap\n",
      "Adelie            Adelie\n",
      "Adelie            Gentoo\n",
      "Adelie            Gentoo\n",
      "Adelie            Gentoo\n",
      "Adelie            Adelie\n",
      "Adelie            Chinstrap\n",
      "Adelie            Gentoo\n",
      "Adelie            Gentoo\n",
      "Adelie            Adelie\n",
      "Adelie            Adelie\n",
      "Adelie            Adelie\n",
      "Adelie            Adelie\n",
      "Adelie            Gentoo\n",
      "Adelie            Gentoo\n",
      "Adelie            Adelie\n",
      "Adelie            Adelie\n",
      "Adelie            Adelie\n",
      "Adelie            Adelie\n",
      "Adelie            Adelie\n",
      "Adelie            Adelie\n",
      "Adelie            Adelie\n",
      "Adelie            Chinstrap\n",
      "Adelie            Adelie\n",
      "Adelie            Adelie\n",
      "Adelie            Adelie\n",
      "Adelie            Adelie\n",
      "Adelie            Chinstrap\n",
      "Adelie            Adelie\n",
      "Adelie            Gentoo\n",
      "Adelie            Gentoo\n",
      "Adelie            Chinstrap\n",
      "Adelie            Chinstrap\n",
      "Adelie            Adelie\n",
      "Adelie            Gentoo\n",
      "Adelie            Gentoo\n",
      "Adelie            Adelie\n",
      "Adelie            Adelie\n",
      "Adelie            Adelie\n",
      "Adelie            Gentoo\n",
      "Adelie            Adelie\n",
      "Adelie            Adelie\n",
      "Adelie            Chinstrap\n",
      "Adelie            Chinstrap\n",
      "Adelie            Gentoo\n",
      "Adelie            Adelie\n",
      "Adelie            Adelie\n",
      "Adelie            Gentoo\n",
      "Adelie            Gentoo\n",
      "Adelie            Adelie\n",
      "Adelie            Chinstrap\n",
      "Adelie            Gentoo\n",
      "Adelie            Chinstrap\n",
      "Adelie            Adelie\n",
      "Adelie            Adelie\n",
      "Adelie            Chinstrap\n",
      "Adelie            Adelie\n",
      "Adelie            Chinstrap\n",
      "Adelie            Chinstrap\n",
      "Adelie            Adelie\n",
      "Adelie            Adelie\n",
      "Adelie            Adelie\n",
      "Adelie            Chinstrap\n",
      "Adelie            Adelie\n",
      "Adelie            Adelie\n",
      "Adelie            Gentoo\n",
      "Adelie            Adelie\n",
      "Adelie            Gentoo\n",
      "Adelie            Adelie\n",
      "Adelie            Adelie\n",
      "Adelie            Chinstrap\n",
      "Adelie            Gentoo\n",
      "Adelie            Adelie\n",
      "Adelie            Chinstrap\n",
      "Adelie            Adelie\n",
      "Adelie            Adelie\n",
      "Adelie            Gentoo\n",
      "Adelie            Adelie\n",
      "Adelie            Chinstrap\n",
      "Adelie            Adelie\n",
      "Adelie            Gentoo\n",
      "Adelie            Adelie\n",
      "Adelie            Adelie\n",
      "Adelie            Adelie\n",
      "Adelie            Adelie\n",
      "Adelie            Chinstrap\n",
      "Adelie            Gentoo\n",
      "Adelie            Chinstrap\n",
      "Adelie            Gentoo\n",
      "Adelie            Adelie\n",
      "Adelie            Chinstrap\n",
      "Adelie            Chinstrap\n",
      "Adelie            Adelie\n",
      "Adelie            Chinstrap\n",
      "Adelie            Adelie\n",
      "Adelie            Gentoo\n",
      "Adelie            Adelie\n",
      "Adelie            Adelie\n",
      "Adelie            Adelie\n",
      "Adelie            Gentoo\n",
      "Adelie            Chinstrap\n",
      "Adelie            Gentoo\n",
      "Adelie            Adelie\n",
      "Adelie            Gentoo\n",
      "Adelie            Adelie\n",
      "Adelie            Gentoo\n",
      "Adelie            Adelie\n",
      "Adelie            Adelie\n",
      "Adelie            Adelie\n",
      "Adelie            Adelie\n",
      "Adelie            Adelie\n",
      "Chinstrap         Gentoo\n",
      "Chinstrap         Adelie\n",
      "Chinstrap         Chinstrap\n",
      "Chinstrap         Gentoo\n",
      "Chinstrap         Gentoo\n",
      "Chinstrap         Adelie\n",
      "Chinstrap         Adelie\n",
      "Chinstrap         Gentoo\n",
      "Chinstrap         Adelie\n",
      "Chinstrap         Chinstrap\n",
      "Chinstrap         Gentoo\n",
      "Chinstrap         Gentoo\n",
      "Chinstrap         Gentoo\n",
      "Chinstrap         Adelie\n",
      "Chinstrap         Adelie\n",
      "Chinstrap         Gentoo\n",
      "Chinstrap         Adelie\n",
      "Chinstrap         Adelie\n",
      "Chinstrap         Gentoo\n",
      "Chinstrap         Adelie\n",
      "Chinstrap         Adelie\n",
      "Chinstrap         Adelie\n",
      "Chinstrap         Gentoo\n",
      "Chinstrap         Chinstrap\n",
      "Chinstrap         Adelie\n",
      "Chinstrap         Gentoo\n",
      "Chinstrap         Gentoo\n",
      "Chinstrap         Adelie\n",
      "Chinstrap         Gentoo\n",
      "Chinstrap         Adelie\n",
      "Chinstrap         Adelie\n",
      "Chinstrap         Adelie\n",
      "Chinstrap         Gentoo\n",
      "Chinstrap         Gentoo\n",
      "Chinstrap         Adelie\n",
      "Chinstrap         Adelie\n",
      "Chinstrap         Adelie\n",
      "Chinstrap         Chinstrap\n",
      "Chinstrap         Adelie\n",
      "Chinstrap         Gentoo\n",
      "Chinstrap         Adelie\n",
      "Chinstrap         Chinstrap\n",
      "Chinstrap         Chinstrap\n",
      "Chinstrap         Gentoo\n",
      "Chinstrap         Adelie\n",
      "Chinstrap         Adelie\n",
      "Chinstrap         Adelie\n",
      "Chinstrap         Gentoo\n",
      "Chinstrap         Gentoo\n",
      "Chinstrap         Chinstrap\n",
      "Chinstrap         Adelie\n",
      "Chinstrap         Gentoo\n",
      "Chinstrap         Chinstrap\n",
      "Chinstrap         Adelie\n",
      "Chinstrap         Adelie\n",
      "Chinstrap         Adelie\n",
      "Chinstrap         Gentoo\n",
      "Chinstrap         Chinstrap\n",
      "Chinstrap         Adelie\n",
      "Chinstrap         Chinstrap\n",
      "Chinstrap         Adelie\n",
      "Chinstrap         Chinstrap\n",
      "Chinstrap         Gentoo\n",
      "Chinstrap         Adelie\n",
      "Chinstrap         Chinstrap\n",
      "Chinstrap         Chinstrap\n",
      "Chinstrap         Adelie\n",
      "Chinstrap         Chinstrap\n",
      "Gentoo            Adelie\n",
      "Gentoo            Gentoo\n",
      "Gentoo            Gentoo\n",
      "Gentoo            Adelie\n",
      "Gentoo            Adelie\n",
      "Gentoo            Gentoo\n",
      "Gentoo            Gentoo\n",
      "Gentoo            Gentoo\n",
      "Gentoo            Adelie\n",
      "Gentoo            Adelie\n",
      "Gentoo            Chinstrap\n",
      "Gentoo            Adelie\n",
      "Gentoo            Adelie\n",
      "Gentoo            Gentoo\n",
      "Gentoo            Gentoo\n",
      "Gentoo            Adelie\n",
      "Gentoo            Adelie\n",
      "Gentoo            Gentoo\n",
      "Gentoo            Adelie\n",
      "Gentoo            Adelie\n",
      "Gentoo            Adelie\n",
      "Gentoo            Adelie\n",
      "Gentoo            Adelie\n",
      "Gentoo            Gentoo\n",
      "Gentoo            Gentoo\n",
      "Gentoo            Chinstrap\n",
      "Gentoo            Adelie\n",
      "Gentoo            Chinstrap\n",
      "Gentoo            Chinstrap\n",
      "Gentoo            Gentoo\n",
      "Gentoo            Gentoo\n",
      "Gentoo            Adelie\n",
      "Gentoo            Adelie\n",
      "Gentoo            Chinstrap\n",
      "Gentoo            Gentoo\n",
      "Gentoo            Adelie\n",
      "Gentoo            Adelie\n",
      "Gentoo            Adelie\n",
      "Gentoo            Chinstrap\n",
      "Gentoo            Gentoo\n",
      "Gentoo            Chinstrap\n",
      "Gentoo            Adelie\n",
      "Gentoo            Chinstrap\n",
      "Gentoo            Gentoo\n",
      "Gentoo            Adelie\n",
      "Gentoo            Adelie\n",
      "Gentoo            Gentoo\n",
      "Gentoo            Gentoo\n",
      "Gentoo            Adelie\n",
      "Gentoo            Gentoo\n",
      "Gentoo            Gentoo\n",
      "Gentoo            Chinstrap\n",
      "Gentoo            Chinstrap\n",
      "Gentoo            Adelie\n",
      "Gentoo            Adelie\n",
      "Gentoo            Adelie\n",
      "Gentoo            Adelie\n",
      "Gentoo            Adelie\n",
      "Gentoo            Gentoo\n",
      "Gentoo            Gentoo\n",
      "Gentoo            Adelie\n",
      "Gentoo            Adelie\n",
      "Gentoo            Adelie\n",
      "Gentoo            Adelie\n",
      "Gentoo            Adelie\n",
      "Gentoo            Adelie\n",
      "Gentoo            Gentoo\n",
      "Gentoo            Gentoo\n",
      "Gentoo            Chinstrap\n",
      "Gentoo            Adelie\n",
      "Gentoo            Adelie\n",
      "Gentoo            Gentoo\n",
      "Gentoo            Adelie\n",
      "Gentoo            Adelie\n",
      "Gentoo            Gentoo\n",
      "Gentoo            Adelie\n",
      "Gentoo            Gentoo\n",
      "Gentoo            Gentoo\n",
      "Gentoo            Chinstrap\n",
      "Gentoo            Gentoo\n",
      "Gentoo            Gentoo\n",
      "Gentoo            Chinstrap\n",
      "Gentoo            Adelie\n",
      "Gentoo            Adelie\n",
      "Gentoo            Adelie\n",
      "Gentoo            Gentoo\n",
      "Gentoo            Gentoo\n",
      "Gentoo            Adelie\n",
      "Gentoo            Gentoo\n",
      "Gentoo            Gentoo\n",
      "Gentoo            Gentoo\n",
      "Gentoo            Adelie\n",
      "Gentoo            Gentoo\n",
      "Gentoo            Chinstrap\n",
      "Gentoo            Adelie\n",
      "Gentoo            Gentoo\n",
      "Gentoo            Adelie\n",
      "Gentoo            Adelie\n",
      "Gentoo            Chinstrap\n",
      "Gentoo            Adelie\n",
      "Gentoo            Adelie\n",
      "Gentoo            Adelie\n",
      "Gentoo            Gentoo\n",
      "Gentoo            Gentoo\n",
      "Gentoo            Gentoo\n",
      "Gentoo            Gentoo\n",
      "Gentoo            Gentoo\n",
      "Gentoo            Adelie\n",
      "Gentoo            Chinstrap\n",
      "Gentoo            Gentoo\n",
      "Gentoo            Gentoo\n",
      "Gentoo            Chinstrap\n",
      "Gentoo            Adelie\n",
      "Gentoo            Gentoo\n",
      "Gentoo            Adelie\n",
      "Gentoo            Adelie\n",
      "Gentoo            Adelie\n",
      "Gentoo            Adelie\n",
      "Gentoo            Adelie\n",
      "Gentoo            Adelie\n",
      "Gentoo            Gentoo\n",
      "Gentoo            Gentoo\n",
      "Gentoo            Adelie\n",
      "Gentoo            Chinstrap\n"
     ]
    }
   ],
   "source": [
    "fcount=0\n",
    "for i in range(len(label_pred)):\n",
    "    if df_label[i]!=label_pred[i]:\n",
    "        fcount+=1\n",
    "    print(df_label[i],label_pred[i],sep=((18-len(df_label[i]))*' '))"
   ]
  },
  {
   "cell_type": "code",
   "execution_count": 80,
   "id": "5cb76264",
   "metadata": {},
   "outputs": [
    {
     "data": {
      "text/plain": [
       "198"
      ]
     },
     "execution_count": 80,
     "metadata": {},
     "output_type": "execute_result"
    }
   ],
   "source": [
    "fcount"
   ]
  },
  {
   "cell_type": "code",
   "execution_count": 81,
   "id": "a0df3c13",
   "metadata": {},
   "outputs": [
    {
     "data": {
      "text/plain": [
       "0.42441860465116277"
      ]
     },
     "execution_count": 81,
     "metadata": {},
     "output_type": "execute_result"
    }
   ],
   "source": [
    "tcount=len(label_pred)-fcount\n",
    "accuracy_score=tcount/len(df_label)\n",
    "accuracy_score"
   ]
  },
  {
   "cell_type": "code",
   "execution_count": 82,
   "id": "265afd0f",
   "metadata": {},
   "outputs": [
    {
     "data": {
      "image/png": "[encoded data removed]",
      "text/plain": [
       "<Figure size 640x480 with 2 Axes>"
      ]
     },
     "metadata": {},
     "output_type": "display_data"
    }
   ],
   "source": [
    "from sklearn.metrics import confusion_matrix as cm\n",
    "from sklearn import metrics\n",
    "import seaborn as sns\n",
    "score=metrics.accuracy_score(df_label, label_pred)\n",
    "cm1=cm(df_label, label_pred)\n",
    "sns.heatmap(cm1, annot=True, fmt=\".0f\")\n",
    "plt.xlabel(\"Predicted Values\")\n",
    "plt.ylabel(\"Actual Values\")\n",
    "plt.title(\"Accuracy Score: {0}\".format(score), size=15)\n",
    "plt.show()"
   ]
  },
  {
   "cell_type": "code",
   "execution_count": null,
   "id": "64e618c7",
   "metadata": {},
   "outputs": [],
   "source": []
  }
 ],
 "metadata": {
  "kernelspec": {
   "display_name": "Python 3 (ipykernel)",
   "language": "python",
   "name": "python3"
  },
  "language_info": {
   "codemirror_mode": {
    "name": "ipython",
    "version": 3
   },
   "file_extension": ".py",
   "mimetype": "text/x-python",
   "name": "python",
   "nbconvert_exporter": "python",
   "pygments_lexer": "ipython3",
   "version": "3.10.7"
  }
 },
 "nbformat": 4,
 "nbformat_minor": 5
}
